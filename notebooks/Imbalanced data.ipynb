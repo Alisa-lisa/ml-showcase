{
 "cells": [
  {
   "cell_type": "code",
   "execution_count": 116,
   "metadata": {},
   "outputs": [],
   "source": [
    "import pandas as pd\n",
    "import sklearn\n",
    "import matplotlib\n",
    "import numpy as np\n",
    "import matplotlib.pyplot as plt\n",
    "import datetime\n",
    "import seaborn as sns\n",
    "%matplotlib inline"
   ]
  },
  {
   "cell_type": "code",
   "execution_count": 6,
   "metadata": {},
   "outputs": [
    {
     "name": "stdout",
     "output_type": "stream",
     "text": [
      "<class 'pandas.core.frame.DataFrame'>\n",
      "RangeIndex: 541909 entries, 0 to 541908\n",
      "Data columns (total 8 columns):\n",
      "InvoiceNo      541909 non-null object\n",
      "StockCode      541909 non-null object\n",
      "Description    540455 non-null object\n",
      "Quantity       541909 non-null int64\n",
      "InvoiceDate    541909 non-null datetime64[ns]\n",
      "UnitPrice      541909 non-null float64\n",
      "CustomerID     406829 non-null float64\n",
      "Country        541909 non-null object\n",
      "dtypes: datetime64[ns](1), float64(2), int64(1), object(4)\n",
      "memory usage: 33.1+ MB\n"
     ]
    }
   ],
   "source": [
    "raw_df = pd.read_excel(\"http://archive.ics.uci.edu/ml/machine-learning-databases/00352/Online%20Retail.xlsx\")  # use your data instead of the url\n",
    "origin = raw_df.copy()\n",
    "raw_df.info()"
   ]
  },
  {
   "cell_type": "code",
   "execution_count": 7,
   "metadata": {},
   "outputs": [
    {
     "name": "stderr",
     "output_type": "stream",
     "text": [
      "/home/alisa/projects/ml-showcase/env/lib/python3.7/site-packages/sklearn/preprocessing/data.py:645: DataConversionWarning: Data with input dtype int64, float64 were all converted to float64 by StandardScaler.\n",
      "  return self.partial_fit(X, y)\n",
      "/home/alisa/projects/ml-showcase/env/lib/python3.7/site-packages/sklearn/base.py:464: DataConversionWarning: Data with input dtype int64, float64 were all converted to float64 by StandardScaler.\n",
      "  return self.fit(X, **fit_params).transform(X)\n"
     ]
    },
    {
     "data": {
      "text/html": [
       "<div>\n",
       "<style scoped>\n",
       "    .dataframe tbody tr th:only-of-type {\n",
       "        vertical-align: middle;\n",
       "    }\n",
       "\n",
       "    .dataframe tbody tr th {\n",
       "        vertical-align: top;\n",
       "    }\n",
       "\n",
       "    .dataframe thead th {\n",
       "        text-align: right;\n",
       "    }\n",
       "</style>\n",
       "<table border=\"1\" class=\"dataframe\">\n",
       "  <thead>\n",
       "    <tr style=\"text-align: right;\">\n",
       "      <th></th>\n",
       "      <th>res</th>\n",
       "      <th>freq</th>\n",
       "      <th>mon</th>\n",
       "    </tr>\n",
       "  </thead>\n",
       "  <tbody>\n",
       "    <tr>\n",
       "      <th>0</th>\n",
       "      <td>2.334858</td>\n",
       "      <td>-0.396512</td>\n",
       "      <td>8.359634</td>\n",
       "    </tr>\n",
       "    <tr>\n",
       "      <th>1</th>\n",
       "      <td>-0.905199</td>\n",
       "      <td>0.394688</td>\n",
       "      <td>0.251046</td>\n",
       "    </tr>\n",
       "    <tr>\n",
       "      <th>2</th>\n",
       "      <td>-0.175186</td>\n",
       "      <td>-0.265374</td>\n",
       "      <td>-0.028546</td>\n",
       "    </tr>\n",
       "    <tr>\n",
       "      <th>3</th>\n",
       "      <td>-0.735196</td>\n",
       "      <td>-0.081781</td>\n",
       "      <td>-0.032963</td>\n",
       "    </tr>\n",
       "    <tr>\n",
       "      <th>4</th>\n",
       "      <td>2.174855</td>\n",
       "      <td>-0.326572</td>\n",
       "      <td>-0.191315</td>\n",
       "    </tr>\n",
       "  </tbody>\n",
       "</table>\n",
       "</div>"
      ],
      "text/plain": [
       "        res      freq       mon\n",
       "0  2.334858 -0.396512  8.359634\n",
       "1 -0.905199  0.394688  0.251046\n",
       "2 -0.175186 -0.265374 -0.028546\n",
       "3 -0.735196 -0.081781 -0.032963\n",
       "4  2.174855 -0.326572 -0.191315"
      ]
     },
     "execution_count": 7,
     "metadata": {},
     "output_type": "execute_result"
    }
   ],
   "source": [
    "# Prepare data to have a hypothetical wehales class\n",
    "\n",
    "raw_df = raw_df.dropna()\n",
    "raw_df.drop(columns=['StockCode', 'Description'], inplace=True)\n",
    "raw_df['Quantity'] = raw_df['Quantity'].apply(lambda x: int(x))\n",
    "raw_df['CustomerID'] = raw_df['CustomerID'].apply(lambda x: int(x))\n",
    "raw_df['UnitPrice'] = raw_df['UnitPrice'].apply(lambda x: float(x))\n",
    "raw_df = raw_df.drop(raw_df[raw_df.Quantity <= 0].index)\n",
    "raw_df['Transaction'] = raw_df[\"UnitPrice\"] * raw_df[\"Quantity\"]\n",
    "lastDate = raw_df['InvoiceDate'].iloc[-1]\n",
    "raw_df = raw_df.groupby('CustomerID').agg({'InvoiceDate': lambda x: (lastDate - x.max()).days, \n",
    "                                           'InvoiceNo': lambda x: len(x), \n",
    "                                           'Transaction': lambda x: x.sum()})\n",
    "raw_df['InvoiceDate'] = raw_df['InvoiceDate'].astype(int)\n",
    "raw_df.rename(columns={'InvoiceDate': 'recency', \n",
    "                         'InvoiceNo': 'frequency', \n",
    "                         'Transaction': 'monetary'}, inplace=True)\n",
    "\n",
    "from sklearn.preprocessing import StandardScaler\n",
    "\n",
    "def scale(df):\n",
    "    ss = StandardScaler()\n",
    "    return pd.DataFrame(ss.fit_transform(df[['recency', 'frequency', 'monetary']]), columns=['res', 'freq', 'mon'])\n",
    "\n",
    "    \n",
    "raw_df = scale(raw_df)\n",
    "\n",
    "raw_df.head()"
   ]
  },
  {
   "cell_type": "code",
   "execution_count": 12,
   "metadata": {},
   "outputs": [
    {
     "data": {
      "image/png": "[encoded data removed]",
      "text/plain": [
       "<Figure size 432x288 with 1 Axes>"
      ]
     },
     "metadata": {
      "needs_background": "light"
     },
     "output_type": "display_data"
    }
   ],
   "source": [
    "colors = ['blue', 'yellow', 'green', 'red', 'orange', 'purple', 'pink']\n",
    "\n",
    "def prepare_clustered_data(column1, column2):\n",
    "    plt.scatter(raw_df[column1], raw_df[column2])\n",
    "    plt.title('Clusters of clients')\n",
    "    plt.xlabel('{}'.format(column1))\n",
    "    plt.ylabel('{}'.format(column2))\n",
    "    plt.legend()\n",
    "    \n",
    "prepare_clustered_data('res', 'mon')"
   ]
  },
  {
   "cell_type": "code",
   "execution_count": 53,
   "metadata": {},
   "outputs": [
    {
     "data": {
      "text/html": [
       "<div>\n",
       "<style scoped>\n",
       "    .dataframe tbody tr th:only-of-type {\n",
       "        vertical-align: middle;\n",
       "    }\n",
       "\n",
       "    .dataframe tbody tr th {\n",
       "        vertical-align: top;\n",
       "    }\n",
       "\n",
       "    .dataframe thead th {\n",
       "        text-align: right;\n",
       "    }\n",
       "</style>\n",
       "<table border=\"1\" class=\"dataframe\">\n",
       "  <thead>\n",
       "    <tr style=\"text-align: right;\">\n",
       "      <th></th>\n",
       "      <th>res</th>\n",
       "      <th>freq</th>\n",
       "      <th>mon</th>\n",
       "      <th>whale</th>\n",
       "    </tr>\n",
       "  </thead>\n",
       "  <tbody>\n",
       "    <tr>\n",
       "      <th>0</th>\n",
       "      <td>2.334858</td>\n",
       "      <td>-0.396512</td>\n",
       "      <td>8.359634</td>\n",
       "      <td>1</td>\n",
       "    </tr>\n",
       "    <tr>\n",
       "      <th>1</th>\n",
       "      <td>-0.905199</td>\n",
       "      <td>0.394688</td>\n",
       "      <td>0.251046</td>\n",
       "      <td>0</td>\n",
       "    </tr>\n",
       "    <tr>\n",
       "      <th>2</th>\n",
       "      <td>-0.175186</td>\n",
       "      <td>-0.265374</td>\n",
       "      <td>-0.028546</td>\n",
       "      <td>0</td>\n",
       "    </tr>\n",
       "    <tr>\n",
       "      <th>3</th>\n",
       "      <td>-0.735196</td>\n",
       "      <td>-0.081781</td>\n",
       "      <td>-0.032963</td>\n",
       "      <td>0</td>\n",
       "    </tr>\n",
       "    <tr>\n",
       "      <th>4</th>\n",
       "      <td>2.174855</td>\n",
       "      <td>-0.326572</td>\n",
       "      <td>-0.191315</td>\n",
       "      <td>0</td>\n",
       "    </tr>\n",
       "  </tbody>\n",
       "</table>\n",
       "</div>"
      ],
      "text/plain": [
       "        res      freq       mon  whale\n",
       "0  2.334858 -0.396512  8.359634      1\n",
       "1 -0.905199  0.394688  0.251046      0\n",
       "2 -0.175186 -0.265374 -0.028546      0\n",
       "3 -0.735196 -0.081781 -0.032963      0\n",
       "4  2.174855 -0.326572 -0.191315      0"
      ]
     },
     "execution_count": 53,
     "metadata": {},
     "output_type": "execute_result"
    }
   ],
   "source": [
    "# Let's define whales as everything above monatry value 5:\n",
    "X = raw_df.copy()\n",
    "X['whale'] = X['mon'].apply(lambda x: 1 if x > 1 else 0)\n",
    "X.head()"
   ]
  },
  {
   "cell_type": "code",
   "execution_count": 54,
   "metadata": {},
   "outputs": [
    {
     "data": {
      "text/plain": [
       "(4339, 4)"
      ]
     },
     "execution_count": 54,
     "metadata": {},
     "output_type": "execute_result"
    }
   ],
   "source": [
    "X.shape"
   ]
  },
  {
   "cell_type": "code",
   "execution_count": 60,
   "metadata": {},
   "outputs": [
    {
     "name": "stdout",
     "output_type": "stream",
     "text": [
      "90\n",
      "0.020742106476146577\n",
      "4249\n",
      "0.9792578935238534\n"
     ]
    },
    {
     "data": {
      "text/plain": [
       "<matplotlib.legend.Legend at 0x7f0babf25940>"
      ]
     },
     "execution_count": 60,
     "metadata": {},
     "output_type": "execute_result"
    },
    {
     "data": {
      "image/png": "[encoded data removed]",
      "text/plain": [
       "<Figure size 1080x720 with 1 Axes>"
      ]
     },
     "metadata": {
      "needs_background": "light"
     },
     "output_type": "display_data"
    }
   ],
   "source": [
    "import random.permuation as permut\n",
    "\n",
    "whales = X[X['whale'] == 1].copy()\n",
    "normal = X[X['whale'] == 0].copy()\n",
    "print(whales.shape[0])\n",
    "print(whales.shape[0] / X.shape[0])\n",
    "print(normal.shape[0])\n",
    "print(normal.shape[0] / X.shape[0])\n",
    "\n",
    "fig = plt.figure(figsize=(15,10))\n",
    "plt.scatter(whales[\"res\"], whales[\"mon\"], c='red', label='whale')\n",
    "plt.scatter(normal[\"res\"], normal[\"mon\"], c='blue', label='non-whale')\n",
    "plt.title('Whales vs non-whales')\n",
    "plt.xlabel('{}'.format(\"resency\"))\n",
    "plt.ylabel('{}'.format(\"monetary\"))\n",
    "plt.legend()\n"
   ]
  },
  {
   "cell_type": "code",
   "execution_count": 62,
   "metadata": {},
   "outputs": [
    {
     "data": {
      "text/html": [
       "<div>\n",
       "<style scoped>\n",
       "    .dataframe tbody tr th:only-of-type {\n",
       "        vertical-align: middle;\n",
       "    }\n",
       "\n",
       "    .dataframe tbody tr th {\n",
       "        vertical-align: top;\n",
       "    }\n",
       "\n",
       "    .dataframe thead th {\n",
       "        text-align: right;\n",
       "    }\n",
       "</style>\n",
       "<table border=\"1\" class=\"dataframe\">\n",
       "  <thead>\n",
       "    <tr style=\"text-align: right;\">\n",
       "      <th></th>\n",
       "      <th>res</th>\n",
       "      <th>freq</th>\n",
       "      <th>mon</th>\n",
       "      <th>whale</th>\n",
       "    </tr>\n",
       "  </thead>\n",
       "  <tbody>\n",
       "    <tr>\n",
       "      <th>481</th>\n",
       "      <td>-0.885199</td>\n",
       "      <td>0.932354</td>\n",
       "      <td>1.016568</td>\n",
       "      <td>1</td>\n",
       "    </tr>\n",
       "    <tr>\n",
       "      <th>3066</th>\n",
       "      <td>-0.905199</td>\n",
       "      <td>0.399059</td>\n",
       "      <td>1.221030</td>\n",
       "      <td>1</td>\n",
       "    </tr>\n",
       "    <tr>\n",
       "      <th>100</th>\n",
       "      <td>-0.905199</td>\n",
       "      <td>1.609901</td>\n",
       "      <td>1.977282</td>\n",
       "      <td>1</td>\n",
       "    </tr>\n",
       "    <tr>\n",
       "      <th>3676</th>\n",
       "      <td>-0.835198</td>\n",
       "      <td>0.075585</td>\n",
       "      <td>2.027527</td>\n",
       "      <td>1</td>\n",
       "    </tr>\n",
       "    <tr>\n",
       "      <th>1690</th>\n",
       "      <td>-0.905199</td>\n",
       "      <td>8.691357</td>\n",
       "      <td>30.949777</td>\n",
       "      <td>1</td>\n",
       "    </tr>\n",
       "  </tbody>\n",
       "</table>\n",
       "</div>"
      ],
      "text/plain": [
       "           res      freq        mon  whale\n",
       "481  -0.885199  0.932354   1.016568      1\n",
       "3066 -0.905199  0.399059   1.221030      1\n",
       "100  -0.905199  1.609901   1.977282      1\n",
       "3676 -0.835198  0.075585   2.027527      1\n",
       "1690 -0.905199  8.691357  30.949777      1"
      ]
     },
     "execution_count": 62,
     "metadata": {},
     "output_type": "execute_result"
    }
   ],
   "source": [
    "# So we have 2% of whales in the whole dataset\n",
    "# 1. let's get try to run a classification problem with random forest and bootstrapping of non-whale class\n",
    "# 2. manual features and rule based approach\n",
    "# 3. synthetic data - require proper knowledfe of the data\n",
    "# 4. autoencoders - would not go there, it's a simple NN, but quite fancy\n",
    "whales = whales.reindex(np.random.permutation(whales.index))\n",
    "normal = normal.reindex(np.random.permutation(normal.index))"
   ]
  },
  {
   "cell_type": "code",
   "execution_count": 102,
   "metadata": {},
   "outputs": [
    {
     "name": "stdout",
     "output_type": "stream",
     "text": [
      "(2974, 4)\n",
      "(62, 4)\n",
      "(3036, 4)\n",
      "(1275, 4)\n",
      "(28, 4)\n",
      "(1303, 4)\n"
     ]
    }
   ],
   "source": [
    "# Prepare train and test sets as always\n",
    "X_train = normal[:int(normal.shape[0] * 0.7)].copy()\n",
    "w_train = whales[:int(whales.shape[0] * 0.7)].copy()\n",
    "X_train = X_train.append(w_train, ignore_index=True)\n",
    "X_train = X_train.reindex(np.random.permutation(X_train.index))\n",
    "\n",
    "X_test = normal[int(normal.shape[0] * 0.7):].copy()\n",
    "w_test =whales[int(whales.shape[0] * 0.7):].copy()\n",
    "X_test = X_test.append(w_test, ignore_index=True)\n",
    "X_test = X_test.reindex(np.random.permutation(X_test.index))"
   ]
  },
  {
   "cell_type": "code",
   "execution_count": 130,
   "metadata": {},
   "outputs": [
    {
     "name": "stderr",
     "output_type": "stream",
     "text": [
      "/home/alisa/projects/ml-showcase/env/lib/python3.7/site-packages/sklearn/ensemble/forest.py:502: UserWarning: class_weight presets \"balanced\" or \"balanced_subsample\" are not recommended for warm_start if the fitted data differs from the full dataset. In order to use \"balanced\" weights, use compute_class_weight(\"balanced\", classes, y). In place of y you can use a large enough sample of the full training set target to properly estimate the class frequency distributions. Pass the resulting weights as the class_weight parameter.\n",
      "  warn('class_weight presets \"balanced\" or \"balanced_subsample\" are '\n"
     ]
    },
    {
     "data": {
      "text/plain": [
       "RandomForestClassifier(bootstrap=True, class_weight='balanced_subsample',\n",
       "            criterion='gini', max_depth=None, max_features='auto',\n",
       "            max_leaf_nodes=None, min_impurity_decrease=0.0,\n",
       "            min_impurity_split=None, min_samples_leaf=1,\n",
       "            min_samples_split=2, min_weight_fraction_leaf=0.0,\n",
       "            n_estimators=100, n_jobs=None, oob_score=False,\n",
       "            random_state=None, verbose=0, warm_start=True)"
      ]
     },
     "execution_count": 130,
     "metadata": {},
     "output_type": "execute_result"
    }
   ],
   "source": [
    "# Check penalty in RFC\n",
    "X_train_penalty_target = X_train['whale'].copy()\n",
    "X_train_penalty_features = X_train.drop(columns=['whale', 'mon'])\n",
    "X_test_penalty_target = X_test['whale'].copy()\n",
    "X_test_penalty_features = X_test.drop(columns=['whale', 'mon'])\n",
    "\n",
    "\n",
    "from sklearn.ensemble import RandomForestClassifier\n",
    "built_in_penalty = RandomForestClassifier(n_estimators=100,class_weight='balanced_subsample', warm_start=True)\n",
    "built_in_penalty.fit(X_train_penalty_features, X_train_penalty_target)"
   ]
  },
  {
   "cell_type": "code",
   "execution_count": 131,
   "metadata": {},
   "outputs": [],
   "source": [
    "def misshit(actual, prediction):\n",
    "    \"\"\" Calculate misshits in general and for each class \n",
    "        FP = was not labeled as whale, but it is not a whale\n",
    "        FN = was labeled as non-whale, but it is\n",
    "        TP = is predicted as a whale, is a whale\n",
    "        TN = is non-whale on both sides\n",
    "    \"\"\"\n",
    "    positive = 1  # label whale\n",
    "    negative = 0  # label non-whale\n",
    "    assert(len(actual) == len(prediction))\n",
    "    total_misshits = 0\n",
    "    FP = 0\n",
    "    FN = 0\n",
    "    TP = 0 \n",
    "    TN = 0\n",
    "    for i in range(len(prediction)):\n",
    "        if prediction[i] != actual[i]:\n",
    "            total_misshits += 1\n",
    "            if prediction[i] == 0:\n",
    "                FN += 1\n",
    "            else:\n",
    "                FP += 1\n",
    "        else:\n",
    "            if prediction[i] == 0:\n",
    "                TN += 1\n",
    "            else:\n",
    "                TP +=1\n",
    "    return total_misshits, FP, FN, TP, TN\n",
    "        \n"
   ]
  },
  {
   "cell_type": "code",
   "execution_count": 132,
   "metadata": {},
   "outputs": [
    {
     "data": {
      "text/plain": [
       "(0, 0, 0, 28, 1275)"
      ]
     },
     "execution_count": 132,
     "metadata": {},
     "output_type": "execute_result"
    }
   ],
   "source": [
    "built_in_penalty_predict = built_in_penalty.predict(X_test_penalty_features)\n",
    "misshit(X_test_penalty_target.tolist(), predicted.tolist())"
   ]
  },
  {
   "cell_type": "code",
   "execution_count": 133,
   "metadata": {},
   "outputs": [
    {
     "name": "stderr",
     "output_type": "stream",
     "text": [
      "No handles with labels found to put in legend.\n"
     ]
    },
    {
     "name": "stdout",
     "output_type": "stream",
     "text": [
      "1.0\n"
     ]
    },
    {
     "data": {
      "image/png": "[encoded data removed]",
      "text/plain": [
       "<Figure size 432x288 with 1 Axes>"
      ]
     },
     "metadata": {
      "needs_background": "light"
     },
     "output_type": "display_data"
    }
   ],
   "source": [
    "# The rule was in this case way too simple apparently:\n",
    "from sklearn import metrics\n",
    "\n",
    "print(metrics.accuracy_score(X_test_penalty_target.tolist(), predicted.tolist()))\n",
    "\n",
    "feature_imp = pd.Series(built_in_penalty.feature_importances_,index=['res', 'freq']).sort_values(ascending=False)\n",
    "feature_imp\n",
    "sns.barplot(x=feature_imp, y=feature_imp.index)\n",
    "# Add labels to your graph\n",
    "plt.xlabel('Feature Importance Score')\n",
    "plt.ylabel('Features')\n",
    "plt.title(\"Visualizing Important Features\")\n",
    "plt.legend()\n",
    "plt.show()"
   ]
  },
  {
   "cell_type": "markdown",
   "metadata": {},
   "source": [
    "RandomForest is quite powerful on sm,aller datasets in comparison to NNs\n",
    "1. class_weight='balanced_subsample' - will give more weight to a rare class\n",
    "2. warm_start=True - reuse previous weights\n",
    "2. max_depth = how many rules does a tree have"
   ]
  },
  {
   "cell_type": "code",
   "execution_count": 160,
   "metadata": {},
   "outputs": [
    {
     "data": {
      "text/plain": [
       "(289, 282, 7, 21, 993)"
      ]
     },
     "execution_count": 160,
     "metadata": {},
     "output_type": "execute_result"
    }
   ],
   "source": [
    "### 1.2 approach for other models (alternative to warm_start)\n",
    "# every learning run take whales and same amount of arndomized non-whales - this is the new train set for a run \n",
    "# putting back non-whales or not - both vaibale approaches, since randomization is taking place.\n",
    "# every next learning start with already learnt weights\n",
    "X_train_boostrap = normal[:int(normal.shape[0] * 0.7)].copy()\n",
    "w_train_boostrap = whales[:int(whales.shape[0] * 0.7)].copy()\n",
    "\n",
    "X_test_boostrap = normal[int(normal.shape[0] * 0.7):].copy()\n",
    "w_test_boostrap = whales[int(whales.shape[0] * 0.7):].copy()\n",
    "X_test_boostrap = X_test_boostrap.append(w_test_boostrap, ignore_index=True)\n",
    "X_test_boostrap = shuffle(X_test_boostrap)\n",
    "X_test_boostrap_target = X_test_boostrap['whale'].copy()\n",
    "X_test_boostrap_feature = X_test_boostrap.drop(columns=['whale', 'mon'])\n",
    "\n",
    "def shuffle(df):\n",
    "    \"\"\" Random order of rows \"\"\"\n",
    "    return df.reindex(np.random.permutation(df.index))\n",
    "\n",
    "# smth like this:\n",
    "ATTEPMPTS = 21\n",
    "bootstrap_model = RandomForestClassifier(n_estimators=100, warm_start=True)\n",
    "\n",
    "for i in range(ATTEPMPTS):\n",
    "    # create new smaller  batches of data for the algorithm: get random rows\n",
    "    features = X_train_boostrap.sample(n=w_train_boostrap.shape[0], random_state=1)\n",
    "    X_small = features.append(w_train_boostrap, ignore_index=True)\n",
    "    X_small = shuffle(X_small)\n",
    "    X_small_target = X_small['whale'].copy()\n",
    "    X_small_feature = X_small.drop(columns=['whale', 'mon'])\n",
    "    X_small_feature.shape\n",
    "    X_train_boostrap.drop(features.index.tolist(), inplace=True)\n",
    "    bootstrap_model.n_estimators += 1\n",
    "    bootstrap_model.fit(X_small_feature, X_small_target)\n",
    "\n",
    "bootstrap_result = bootstrap_model.predict(X_test_boostrap_feature)\n",
    "misshit(X_test_boostrap_target.tolist(), bootstrap_result.tolist())\n",
    "\n",
    "# This method does not work that well in trees, since it sees whales way too often, \n",
    "# but it might work in NN if you use normalization or any other penalty for overfitting\n"
   ]
  },
  {
   "cell_type": "markdown",
   "metadata": {},
   "source": [
    " 2. Manual features: map all features against target to see distributions and behaviour. \n",
    " Best case scenario - target class is an outlier in certain feature combination\n",
    " \n",
    " This might get ugly due to potential amount of dimensions - interpretability dies off very quickly "
   ]
  },
  {
   "cell_type": "markdown",
   "metadata": {},
   "source": [
    "3. Synthetic data\n",
    "- Very similar to manual tree creation,\n",
    "- create more data by altering existing rows to be still a whale withing given boundary\n",
    "- downside: you really need to have a very good understanding of all feeature connections\n",
    "\n",
    "\n",
    "```new_row = old_row['rec'] - 1, old_row['mon'] + 2, old_row['freq'] + 0.2 - as an example```"
   ]
  }
 ],
 "metadata": {
  "kernelspec": {
   "display_name": "Python 3",
   "language": "python",
   "name": "python3"
  },
  "language_info": {
   "codemirror_mode": {
    "name": "ipython",
    "version": 3
   },
   "file_extension": ".py",
   "mimetype": "text/x-python",
   "name": "python",
   "nbconvert_exporter": "python",
   "pygments_lexer": "ipython3",
   "version": "3.7.3"
  }
 },
 "nbformat": 4,
 "nbformat_minor": 2
}
