{
 "cells": [
  {
   "cell_type": "markdown",
   "metadata": {},
   "source": [
    "### Examples of differet boosting algorithms (new random forest)\n",
    "1. General usage\n",
    "2. Analysis\n",
    "3. Improvements"
   ]
  },
  {
   "cell_type": "code",
   "execution_count": 2,
   "metadata": {},
   "outputs": [],
   "source": [
    "import pandas as pd\n",
    "import numpy as np\n",
    "import lightgbm\n",
    "import sklearn\n",
    "import matplotlib.pyplot as plt\n",
    "%matplotlib inline"
   ]
  },
  {
   "cell_type": "code",
   "execution_count": 5,
   "metadata": {},
   "outputs": [
    {
     "data": {
      "text/html": [
       "<div>\n",
       "<style scoped>\n",
       "    .dataframe tbody tr th:only-of-type {\n",
       "        vertical-align: middle;\n",
       "    }\n",
       "\n",
       "    .dataframe tbody tr th {\n",
       "        vertical-align: top;\n",
       "    }\n",
       "\n",
       "    .dataframe thead th {\n",
       "        text-align: right;\n",
       "    }\n",
       "</style>\n",
       "<table border=\"1\" class=\"dataframe\">\n",
       "  <thead>\n",
       "    <tr style=\"text-align: right;\">\n",
       "      <th></th>\n",
       "      <th>recency</th>\n",
       "      <th>frequency</th>\n",
       "      <th>monetary</th>\n",
       "    </tr>\n",
       "    <tr>\n",
       "      <th>CustomerID</th>\n",
       "      <th></th>\n",
       "      <th></th>\n",
       "      <th></th>\n",
       "    </tr>\n",
       "  </thead>\n",
       "  <tbody>\n",
       "    <tr>\n",
       "      <th>12346</th>\n",
       "      <td>325</td>\n",
       "      <td>1</td>\n",
       "      <td>77183.60</td>\n",
       "    </tr>\n",
       "    <tr>\n",
       "      <th>12347</th>\n",
       "      <td>1</td>\n",
       "      <td>182</td>\n",
       "      <td>4310.00</td>\n",
       "    </tr>\n",
       "    <tr>\n",
       "      <th>12348</th>\n",
       "      <td>74</td>\n",
       "      <td>31</td>\n",
       "      <td>1797.24</td>\n",
       "    </tr>\n",
       "    <tr>\n",
       "      <th>12349</th>\n",
       "      <td>18</td>\n",
       "      <td>73</td>\n",
       "      <td>1757.55</td>\n",
       "    </tr>\n",
       "    <tr>\n",
       "      <th>12350</th>\n",
       "      <td>309</td>\n",
       "      <td>17</td>\n",
       "      <td>334.40</td>\n",
       "    </tr>\n",
       "  </tbody>\n",
       "</table>\n",
       "</div>"
      ],
      "text/plain": [
       "            recency  frequency  monetary\n",
       "CustomerID                              \n",
       "12346           325          1  77183.60\n",
       "12347             1        182   4310.00\n",
       "12348            74         31   1797.24\n",
       "12349            18         73   1757.55\n",
       "12350           309         17    334.40"
      ]
     },
     "execution_count": 5,
     "metadata": {},
     "output_type": "execute_result"
    }
   ],
   "source": [
    "# \n",
    "raw_df = pd.read_excel(\"http://archive.ics.uci.edu/ml/machine-learning-databases/00352/Online%20Retail.xlsx\")\n",
    "\n",
    "raw_df = raw_df.dropna()\n",
    "\n",
    "# drop not needed stuff \n",
    "raw_df.drop(columns=['StockCode', 'Description'], inplace=True)\n",
    "\n",
    "raw_df['Quantity'] = raw_df['Quantity'].apply(lambda x: int(x))\n",
    "raw_df['CustomerID'] = raw_df['CustomerID'].apply(lambda x: int(x))\n",
    "raw_df['UnitPrice'] = raw_df['UnitPrice'].apply(lambda x: float(x))\n",
    "raw_df = raw_df.drop(raw_df[raw_df.Quantity <= 0].index)\n",
    "raw_df['Transaction'] = raw_df[\"UnitPrice\"] * raw_df[\"Quantity\"]\n",
    "\n",
    "lastDate = raw_df['InvoiceDate'].iloc[-1]\n",
    "raw_df = raw_df.groupby('CustomerID').agg({'InvoiceDate': lambda x: (lastDate - x.max()).days, \n",
    "                                           'InvoiceNo': lambda x: len(x), \n",
    "                                           'Transaction': lambda x: x.sum()})\n",
    "raw_df['InvoiceDate'] = raw_df['InvoiceDate'].astype(int)\n",
    "raw_df.rename(columns={'InvoiceDate': 'recency', \n",
    "                         'InvoiceNo': 'frequency', \n",
    "                         'Transaction': 'monetary'}, inplace=True)\n",
    "\n",
    "raw_df.head()"
   ]
  },
  {
   "cell_type": "code",
   "execution_count": 23,
   "metadata": {},
   "outputs": [
    {
     "name": "stdout",
     "output_type": "stream",
     "text": [
      "simple: 100790850.14594287 vs boosted: 204600581.69923657\n",
      "-103809731.5532937\n"
     ]
    },
    {
     "name": "stderr",
     "output_type": "stream",
     "text": [
      "/home/alisa/projects/ml-showcase/env/lib/python3.7/site-packages/pandas/core/frame.py:3940: SettingWithCopyWarning: \n",
      "A value is trying to be set on a copy of a slice from a DataFrame\n",
      "\n",
      "See the caveats in the documentation: http://pandas.pydata.org/pandas-docs/stable/indexing.html#indexing-view-versus-copy\n",
      "  errors=errors)\n"
     ]
    }
   ],
   "source": [
    "# Adaptive boosting -> combining stmps into one regressor/classifier\n",
    "from sklearn.ensemble import AdaBoostRegressor\n",
    "from sklearn.tree import DecisionTreeRegressor\n",
    "from sklearn.model_selection import train_test_split\n",
    "\n",
    "# prepare data\n",
    "train, test = train_test_split(raw_df)\n",
    "train_target = train['monetary']\n",
    "train.drop(columns=['monetary'], inplace=True)\n",
    "test_target = test['monetary']\n",
    "test.drop(columns=['monetary'], inplace=True)\n",
    "\n",
    "# Fit regression model\n",
    "simple = DecisionTreeRegressor(max_depth=4)\n",
    "\n",
    "boosted = AdaBoostRegressor(DecisionTreeRegressor(max_depth=4), n_estimators=300)\n",
    "\n",
    "simple.fit(train, train_target)\n",
    "boosted.fit(train, train_target)\n",
    "\n",
    "# Predict\n",
    "simple_predictor = simple.predict(test)\n",
    "boosted_predictor = boosted.predict(test)\n",
    "\n",
    "from sklearn.metrics import mean_squared_error\n",
    "\n",
    "simple_mse = mean_squared_error(list(test_target), simple_predictor)\n",
    "boosted_mse = mean_squared_error(list(test_target), boosted_predictor)\n",
    "\n",
    "print(\"simple: {} vs boosted: {}\".format(simple_mse, boosted_mse))\n",
    "print(simple_mse - boosted_mse)"
   ]
  },
  {
   "cell_type": "code",
   "execution_count": null,
   "metadata": {},
   "outputs": [],
   "source": []
  },
  {
   "cell_type": "code",
   "execution_count": null,
   "metadata": {},
   "outputs": [],
   "source": []
  }
 ],
 "metadata": {
  "kernelspec": {
   "display_name": "Python 3",
   "language": "python",
   "name": "python3"
  },
  "language_info": {
   "codemirror_mode": {
    "name": "ipython",
    "version": 3
   },
   "file_extension": ".py",
   "mimetype": "text/x-python",
   "name": "python",
   "nbconvert_exporter": "python",
   "pygments_lexer": "ipython3",
   "version": "3.7.3"
  }
 },
 "nbformat": 4,
 "nbformat_minor": 2
}
